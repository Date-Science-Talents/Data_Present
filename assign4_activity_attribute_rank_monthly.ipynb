{
 "cells": [
  {
   "cell_type": "code",
   "execution_count": 33,
   "metadata": {
    "collapsed": true
   },
   "outputs": [],
   "source": [
    "#Necessary import\n",
    "import pandas as pd"
   ]
  },
  {
   "cell_type": "code",
   "execution_count": 34,
   "outputs": [],
   "source": [
    "# Read in data\n",
    "cleaned_df = pd.read_excel(r'Cleaned_CC Data 2020.xlsx', sheet_name=0)"
   ],
   "metadata": {
    "collapsed": false,
    "pycharm": {
     "name": "#%%\n"
    }
   }
  },
  {
   "cell_type": "code",
   "execution_count": 38,
   "outputs": [
    {
     "data": {
      "text/plain": "       LinkTitle    ActivityTag     Time  \\\n0  Youtube Music          Music  2020-10   \n1  Youtube Music          Music  2020-10   \n2       My Music          Music  2020-10   \n3  Entertainment  Entertainment  2020-10   \n4        Forth 2          Radio  2020-10   \n\n                              VisitorID  ExternalID  Role  \\\n0  9EDD833D-9D6B-46AC-A85E-DF21425162C4      8846.0  User   \n1  9EDD833D-9D6B-46AC-A85E-DF21425162C4      8846.0  User   \n2  9EDD833D-9D6B-46AC-A85E-DF21425162C4      8846.0  User   \n3  9EDD833D-9D6B-46AC-A85E-DF21425162C4      8846.0  User   \n4  679CBA7A-948B-4F2E-9432-002DDD5FFF8A         NaN  User   \n\n                Building  LinkType ContentInfo  \n0  Night Support Service  Internet         NaN  \n1  Night Support Service  Internet         NaN  \n2  Night Support Service  Category         NaN  \n3  Night Support Service  Category         NaN  \n4    Broom Main Building     Radio         NaN  ",
      "text/html": "<div>\n<style scoped>\n    .dataframe tbody tr th:only-of-type {\n        vertical-align: middle;\n    }\n\n    .dataframe tbody tr th {\n        vertical-align: top;\n    }\n\n    .dataframe thead th {\n        text-align: right;\n    }\n</style>\n<table border=\"1\" class=\"dataframe\">\n  <thead>\n    <tr style=\"text-align: right;\">\n      <th></th>\n      <th>LinkTitle</th>\n      <th>ActivityTag</th>\n      <th>Time</th>\n      <th>VisitorID</th>\n      <th>ExternalID</th>\n      <th>Role</th>\n      <th>Building</th>\n      <th>LinkType</th>\n      <th>ContentInfo</th>\n    </tr>\n  </thead>\n  <tbody>\n    <tr>\n      <th>0</th>\n      <td>Youtube Music</td>\n      <td>Music</td>\n      <td>2020-10</td>\n      <td>9EDD833D-9D6B-46AC-A85E-DF21425162C4</td>\n      <td>8846.0</td>\n      <td>User</td>\n      <td>Night Support Service</td>\n      <td>Internet</td>\n      <td>NaN</td>\n    </tr>\n    <tr>\n      <th>1</th>\n      <td>Youtube Music</td>\n      <td>Music</td>\n      <td>2020-10</td>\n      <td>9EDD833D-9D6B-46AC-A85E-DF21425162C4</td>\n      <td>8846.0</td>\n      <td>User</td>\n      <td>Night Support Service</td>\n      <td>Internet</td>\n      <td>NaN</td>\n    </tr>\n    <tr>\n      <th>2</th>\n      <td>My Music</td>\n      <td>Music</td>\n      <td>2020-10</td>\n      <td>9EDD833D-9D6B-46AC-A85E-DF21425162C4</td>\n      <td>8846.0</td>\n      <td>User</td>\n      <td>Night Support Service</td>\n      <td>Category</td>\n      <td>NaN</td>\n    </tr>\n    <tr>\n      <th>3</th>\n      <td>Entertainment</td>\n      <td>Entertainment</td>\n      <td>2020-10</td>\n      <td>9EDD833D-9D6B-46AC-A85E-DF21425162C4</td>\n      <td>8846.0</td>\n      <td>User</td>\n      <td>Night Support Service</td>\n      <td>Category</td>\n      <td>NaN</td>\n    </tr>\n    <tr>\n      <th>4</th>\n      <td>Forth 2</td>\n      <td>Radio</td>\n      <td>2020-10</td>\n      <td>679CBA7A-948B-4F2E-9432-002DDD5FFF8A</td>\n      <td>NaN</td>\n      <td>User</td>\n      <td>Broom Main Building</td>\n      <td>Radio</td>\n      <td>NaN</td>\n    </tr>\n  </tbody>\n</table>\n</div>"
     },
     "execution_count": 38,
     "metadata": {},
     "output_type": "execute_result"
    }
   ],
   "source": [
    "cleaned_df.head()"
   ],
   "metadata": {
    "collapsed": false,
    "pycharm": {
     "name": "#%%\n"
    }
   }
  },
  {
   "cell_type": "code",
   "execution_count": 37,
   "outputs": [],
   "source": [
    "# keep the month and year info\n",
    "cleaned_df['Time'] = cleaned_df['Time'].dt.to_period('M')"
   ],
   "metadata": {
    "collapsed": false,
    "pycharm": {
     "name": "#%%\n"
    }
   }
  },
  {
   "cell_type": "code",
   "execution_count": 40,
   "outputs": [],
   "source": [
    "acti_attri_monthly_df = cleaned_df.groupby(['ActivityTag', 'Time']).size().reset_index(name='count')"
   ],
   "metadata": {
    "collapsed": false,
    "pycharm": {
     "name": "#%%\n"
    }
   }
  },
  {
   "cell_type": "markdown",
   "source": [
    "## Export"
   ],
   "metadata": {
    "collapsed": false
   }
  },
  {
   "cell_type": "code",
   "execution_count": 41,
   "outputs": [],
   "source": [
    "acti_attri_monthly_df.to_excel(\"acti_attri_rank_monthly.xlsx\", index=False)"
   ],
   "metadata": {
    "collapsed": false,
    "pycharm": {
     "name": "#%%\n"
    }
   }
  },
  {
   "cell_type": "code",
   "execution_count": 44,
   "outputs": [],
   "source": [
    "attribute_df = pd.DataFrame(acti_attri_monthly_df['ActivityTag'].unique())\n",
    "attribute_df.to_excel(\"attritube.xlsx\",index=False)"
   ],
   "metadata": {
    "collapsed": false,
    "pycharm": {
     "name": "#%%\n"
    }
   }
  },
  {
   "cell_type": "code",
   "execution_count": null,
   "outputs": [],
   "source": [],
   "metadata": {
    "collapsed": false,
    "pycharm": {
     "name": "#%%\n"
    }
   }
  }
 ],
 "metadata": {
  "kernelspec": {
   "display_name": "Python 3",
   "language": "python",
   "name": "python3"
  },
  "language_info": {
   "codemirror_mode": {
    "name": "ipython",
    "version": 2
   },
   "file_extension": ".py",
   "mimetype": "text/x-python",
   "name": "python",
   "nbconvert_exporter": "python",
   "pygments_lexer": "ipython2",
   "version": "2.7.6"
  }
 },
 "nbformat": 4,
 "nbformat_minor": 0
}